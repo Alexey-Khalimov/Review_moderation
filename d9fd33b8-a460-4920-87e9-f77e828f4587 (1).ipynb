{
 "cells": [
  {
   "cell_type": "markdown",
   "metadata": {
    "toc": true
   },
   "source": [
    "<h1>Содержание<span class=\"tocSkip\"></span></h1>\n",
    "<div class=\"toc\"><ul class=\"toc-item\"><li><span><a href=\"#Загрузка-и-первичны-обзор-данных\" data-toc-modified-id=\"Загрузка-и-первичны-обзор-данных-1\"><span class=\"toc-item-num\">1&nbsp;&nbsp;</span>Загрузка и первичны обзор данных</a></span><ul class=\"toc-item\"><li><span><a href=\"#Импорт-библиотек-и-настройка-графиков\" data-toc-modified-id=\"Импорт-библиотек-и-настройка-графиков-1.1\"><span class=\"toc-item-num\">1.1&nbsp;&nbsp;</span>Импорт библиотек и настройка графиков</a></span></li><li><span><a href=\"#Используемые-функции\" data-toc-modified-id=\"Используемые-функции-1.2\"><span class=\"toc-item-num\">1.2&nbsp;&nbsp;</span>Используемые функции</a></span></li><li><span><a href=\"#Загрузка-данных\" data-toc-modified-id=\"Загрузка-данных-1.3\"><span class=\"toc-item-num\">1.3&nbsp;&nbsp;</span>Загрузка данных</a></span></li></ul></li><li><span><a href=\"#Обучение\" data-toc-modified-id=\"Обучение-2\"><span class=\"toc-item-num\">2&nbsp;&nbsp;</span><ya-tr-span data-index=\"61-1\" data-translated=\"true\" data-source-lang=\"en\" data-target-lang=\"ru\" data-value=\"Обучение\" data-translation=\"Обучение\" data-ch=\"0\" data-type=\"trSpan\" style=\"visibility: inherit !important;\">Обучение</ya-tr-span></a></span></li><li><span><a href=\"#Выводы\" data-toc-modified-id=\"Выводы-3\"><span class=\"toc-item-num\">3&nbsp;&nbsp;</span><ya-tr-span data-index=\"62-1\" data-translated=\"true\" data-source-lang=\"en\" data-target-lang=\"ru\" data-value=\"Выводы\" data-translation=\"Выводы\" data-ch=\"0\" data-type=\"trSpan\" style=\"visibility: inherit !important;\">Выводы</ya-tr-span></a></span></li><li><span><a href=\"#Чек-лист-проверки\" data-toc-modified-id=\"Чек-лист-проверки-4\"><span class=\"toc-item-num\">4&nbsp;&nbsp;</span><ya-tr-span data-index=\"63-1\" data-translated=\"true\" data-source-lang=\"en\" data-target-lang=\"ru\" data-value=\"Чек-лист проверки\" data-translation=\"Чек-лист проверки\" data-ch=\"0\" data-type=\"trSpan\" style=\"visibility: inherit !important;\">Чек-лист проверки</ya-tr-span></a></span></li></ul></div>"
   ]
  },
  {
   "cell_type": "markdown",
   "metadata": {},
   "source": [
    "# Проект \"Модерация текстов\""
   ]
  },
  {
   "cell_type": "markdown",
   "metadata": {},
   "source": [
    "**Заказчик исследования:** Интернет-магазин «Викишоп», запускающий новый сервис, позволяющий пользователям редактировать и дополнять описания товаров, оставлять правки и комментировать изменения.\n",
    "\n",
    "**Исходные данные:** Набор данных включает пользовательские комментарии с разметкой, указывающей на токсичность комментариев. Данные содержат текстовые сообщения и соответствующие метки:\n",
    "- 1 — токсичный комментарий;\n",
    "- 0 — нетоксичный комментарий.\n",
    "\n",
    "**Цель исследования:** Разработать инструмент для классификации пользовательских комментариев, определяющий токсичные сообщения для их последующей отправки на модерацию. Модель должна достигать значения метрики F1 не ниже 0.75.\n",
    "\n",
    "**Задачи исследования:**\n",
    "1. Загрузка и первичное ознакомление с предоставленными данными.\n",
    "2. Предварительная обработка текстовых данных:\n",
    "   - Приведение текста к нижнему регистру.\n",
    "   - Очистка от пунктуации, цифр и лишних символов.\n",
    "   - Лемматизация и удаление стоп-слов.\n",
    "3. Разделение данных на обучающую и тестовую выборки.\n",
    "4. Преобразование текстовых данных в числовое представление с использованием метода TF-IDF.\n",
    "5. Обучение и тестирование различных моделей машинного обучения, включая:\n",
    "   - Логистическую регрессию;\n",
    "   - Случайный лес;\n",
    "   - Градиентный бустинг (XGBoost, CatBoost);\n",
    "   - Нейронные сети, включая использование предобученной модели BERT (при локальном запуске).\n",
    "6. Настройка гиперпараметров моделей с использованием кросс-валидации.\n",
    "7. Оценка качества моделей на тестовой выборке с помощью метрик F1, Precision, Recall и Accuracy.\n",
    "8. Сравнение моделей и выбор наилучшей с точки зрения метрики F1.\n",
    "9. Анализ важности признаков, использованных в моделях.\n",
    "10. Подготовка итогового отчета с рекомендациями по использованию разработанного инструмента для классификации комментариев.\n",
    "\n",
    "**Дополнительное задание:** Реализация решения с использованием нейронной сети BERT для более точной классификации токсичных комментариев."
   ]
  },
  {
   "cell_type": "markdown",
   "metadata": {},
   "source": [
    "## Загрузка и первичны обзор данных"
   ]
  },
  {
   "cell_type": "markdown",
   "metadata": {},
   "source": [
    "### Импорт библиотек и настройка графиков"
   ]
  },
  {
   "cell_type": "code",
   "execution_count": null,
   "metadata": {},
   "outputs": [],
   "source": [
    "#!pip install langdetect"
   ]
  },
  {
   "cell_type": "code",
   "execution_count": 2,
   "metadata": {
    "ExecuteTime": {
     "end_time": "2024-11-19T17:46:41.154709Z",
     "start_time": "2024-11-19T17:46:41.145634Z"
    }
   },
   "outputs": [],
   "source": [
    "# Импорт стандартной библиотеки\n",
    "import os\n",
    "import re\n",
    "import warnings\n",
    "\n",
    "# Импорт библиотек для научных вычислений\n",
    "import numpy as np\n",
    "import pandas as pd\n",
    "import seaborn as sns\n",
    "import matplotlib.pyplot as plt\n",
    "\n",
    "# Определение языка\n",
    "from langdetect import detect\n",
    "from langdetect.lang_detect_exception import LangDetectException\n",
    "\n",
    "# Настройка отображения в Pandas, чтобы видеть весь список параметров\n",
    "pd.set_option('display.max_colwidth', None)\n",
    "pd.options.display.max_columns = None # Установка опции для отображения всех столбцов\n",
    "\n",
    "# Константы\n",
    "LINE_1 = '-' * 125\n",
    "RANDOM_STATE = 34"
   ]
  },
  {
   "cell_type": "markdown",
   "metadata": {},
   "source": [
    "### Используемые функции"
   ]
  },
  {
   "cell_type": "code",
   "execution_count": 13,
   "metadata": {
    "ExecuteTime": {
     "end_time": "2024-11-19T17:55:17.222444Z",
     "start_time": "2024-11-19T17:55:17.203940Z"
    }
   },
   "outputs": [],
   "source": [
    "# Функция для загрузки данных\n",
    "def load_data(local_file_path, remote_url, sep=',', decimal='.', date_columns=None, index_col=None):\n",
    "    try:\n",
    "        # Проверяем, существует ли локальный файл\n",
    "        if os.path.exists(local_file_path):\n",
    "            print(f'Загрузка данных из локального файла: {local_file_path}')\n",
    "            return pd.read_csv(\n",
    "                local_file_path,\n",
    "                sep=sep,\n",
    "                decimal=decimal,\n",
    "                parse_dates=date_columns if date_columns else False,  # Указываем parse_dates только при необходимости\n",
    "                index_col=index_col\n",
    "            )\n",
    "        else:\n",
    "            print(f'Загрузка данных из удаленного источника: {remote_url}')\n",
    "            return pd.read_csv(\n",
    "                remote_url,\n",
    "                sep=sep,\n",
    "                decimal=decimal,\n",
    "                parse_dates=date_columns if date_columns else False,  # Указываем parse_dates только при необходимости\n",
    "                index_col=index_col\n",
    "            )\n",
    "    except Exception as e:\n",
    "        # Если произошла ошибка, выводим сообщение\n",
    "        print('Загрузка произошла с ошибкой')\n",
    "        print(f'Ошибка: {str(e)}')\n",
    "        return None"
   ]
  },
  {
   "cell_type": "code",
   "execution_count": 43,
   "metadata": {
    "ExecuteTime": {
     "end_time": "2024-11-19T18:30:00.503327Z",
     "start_time": "2024-11-19T18:30:00.479274Z"
    }
   },
   "outputs": [],
   "source": [
    "from langdetect import detect, detect_langs\n",
    "\n",
    "def data_overview_with_language_detection(df, target_column, text_column):\n",
    "    \"\"\"\n",
    "    Функция для первичного обзора данных DataFrame, включая определение языков текста.\n",
    "    \n",
    "    Параметры:\n",
    "    - df: pandas DataFrame\n",
    "    - target_column: Название колонки с целевой переменной.\n",
    "    - text_column: Название колонки с текстовыми данными.\n",
    "    \"\"\"\n",
    "    data = df.copy()\n",
    "    \n",
    "    print(\"Первые 5 строк данных:\")\n",
    "    display(data.head())\n",
    "    \n",
    "    print(\"\\nОбщая информация о данных:\")\n",
    "    display(data.info())\n",
    "    \n",
    "    print(\"\\nОписание числовых данных:\")\n",
    "    display(data.describe())\n",
    "    \n",
    "    print(\"\\nКоличество пропущенных значений:\")\n",
    "    display(data.isnull().sum())\n",
    "    \n",
    "    print(\"\\nКоличество уникальных значений в каждом столбце:\")\n",
    "    display(data.nunique())\n",
    "    \n",
    "    # Проверка дубликатов\n",
    "    duplicate_count = data.duplicated().sum()\n",
    "    print(f\"\\nКоличество дубликатов: {duplicate_count}\")\n",
    "    if duplicate_count > 0:\n",
    "        print(\"Примеры дубликатов:\")\n",
    "        display(data[data.duplicated()].head())\n",
    "    \n",
    "    # Распределение целевой переменной\n",
    "    print(\"\\nРаспределение целевой переменной:\")\n",
    "    plt.figure(figsize=(8, 6))\n",
    "    sns.countplot(x=target_column, data=data)\n",
    "    plt.title(\"Распределение целевой переменной\")\n",
    "    plt.xlabel(\"Классы\")\n",
    "    plt.ylabel(\"Частота\")\n",
    "    plt.xticks([0, 1], labels=['Not Toxic', 'Toxic'])\n",
    "    plt.show()\n",
    "    \n",
    "    # Вычисление длины текста\n",
    "    data['text_length'] = data[text_column].str.strip().str.len()\n",
    "    print(f\"\\nМаксимальное количество символов в '{text_column}' (без лишних пробелов): {data['text_length'].max()}\")\n",
    "    print(f\"Минимальное количество символов в '{text_column}' (без лишних пробелов): {data['text_length'].min()}\")\n",
    "    \n",
    "    # Построение графика длины текста\n",
    "    plt.figure(figsize=(8, 6))\n",
    "    sns.histplot(data['text_length'], bins=50, kde=True, color='blue')\n",
    "    plt.title(\"Распределение длины текста\")\n",
    "    plt.xlabel(\"Количество символов\")\n",
    "    plt.ylabel(\"Частота\")\n",
    "    plt.show()\n",
    "    \n",
    "    # Вычисление количества слов\n",
    "    data['word_count'] = data[text_column].str.strip().str.split().apply(len)  \n",
    "    print(f\"\\nКоличество слов в '{text_column}':\")\n",
    "    print(f\"Максимум: {data['word_count'].max()}\")\n",
    "    print(f\"Минимум: {data['word_count'].min()}\")\n",
    "    print(f\"Среднее: {data['word_count'].mean():.2f}\")\n",
    "    print(f\"Медиана: {data['word_count'].median()}\")\n",
    "    \n",
    "    # Построение графика распределения количества слов\n",
    "    plt.figure(figsize=(8, 6))\n",
    "    sns.histplot(data['word_count'], bins=50, kde=True, color='green')\n",
    "    plt.title(\"Распределение количества слов в тексте\")\n",
    "    plt.xlabel(\"Количество слов\")\n",
    "    plt.ylabel(\"Частота\")\n",
    "    plt.show()\n",
    "    \n",
    "    # Определение языка текста\n",
    "    print(\"\\nОпределение языков текста:\")\n",
    "    data['detected_languages'] = data[text_column].apply(lambda x: detect(x) if isinstance(x, str) else 'unknown')\n",
    "    language_counts = data['detected_languages'].value_counts()\n",
    "    print(\"Распределение языков:\")\n",
    "    display(language_counts)\n",
    "    \n",
    "    # Построение графика распределения языков\n",
    "    plt.figure(figsize=(8, 6))\n",
    "    language_counts.plot(kind='bar', color='purple')\n",
    "    plt.title(\"Распределение языков в тексте\")\n",
    "    plt.xlabel(\"Язык\")\n",
    "    plt.ylabel(\"Количество\")\n",
    "    plt.xticks(rotation=45)\n",
    "    plt.show()\n",
    "    \n",
    "    return data"
   ]
  },
  {
   "cell_type": "code",
   "execution_count": 52,
   "metadata": {
    "ExecuteTime": {
     "end_time": "2024-11-19T18:45:10.931160Z",
     "start_time": "2024-11-19T18:45:10.903479Z"
    }
   },
   "outputs": [],
   "source": [
    "def data_overview_with_language_detection(df, target_column, text_column, sample_fraction=0.1):\n",
    "    \"\"\"\n",
    "    Функция для первичного обзора данных DataFrame, включая выборочное определение языков текста.\n",
    "    \n",
    "    Параметры:\n",
    "    - df: pandas DataFrame\n",
    "    - target_column: Название колонки с целевой переменной.\n",
    "    - text_column: Название колонки с текстовыми данными.\n",
    "    - sample_fraction: Доля строк, для которых будет определён язык (по умолчанию 10%).\n",
    "    \"\"\"\n",
    "    data = df.copy()\n",
    "    \n",
    "    print(\"Первые 5 строк данных:\")\n",
    "    display(data.head())\n",
    "    \n",
    "    print(\"\\nОбщая информация о данных:\")\n",
    "    display(data.info())\n",
    "    \n",
    "    print(\"\\nОписание числовых данных:\")\n",
    "    display(data.describe())\n",
    "    \n",
    "    print(\"\\nКоличество пропущенных значений:\")\n",
    "    display(data.isnull().sum())\n",
    "    \n",
    "    print(\"\\nКоличество уникальных значений в каждом столбце:\")\n",
    "    display(data.nunique())\n",
    "    \n",
    "    # Проверка дубликатов\n",
    "    duplicate_count = data.duplicated().sum()\n",
    "    print(f\"\\nКоличество дубликатов: {duplicate_count}\")\n",
    "    if duplicate_count > 0:\n",
    "        print(\"Примеры дубликатов:\")\n",
    "        display(data[data.duplicated()].head())\n",
    "    \n",
    "    # Распределение целевой переменной\n",
    "    print(\"\\nРаспределение целевой переменной:\")\n",
    "    plt.figure(figsize=(12, 6))\n",
    "    sns.countplot(x=target_column, data=data)\n",
    "    plt.title(\"Распределение целевой переменной\")\n",
    "    plt.xlabel(\"Классы\")\n",
    "    plt.ylabel(\"Частота\")\n",
    "    plt.xticks([0, 1], labels=['Not Toxic', 'Toxic'])\n",
    "    plt.show()\n",
    "    \n",
    "    # Вычисление длины текста\n",
    "    data['text_length'] = data[text_column].str.strip().str.len()\n",
    "    print(f\"\\nМаксимальное количество символов в '{text_column}' (без лишних пробелов): {data['text_length'].max()}\")\n",
    "    print(f\"Минимальное количество символов в '{text_column}' (без лишних пробелов): {data['text_length'].min()}\")\n",
    "    \n",
    "    # Построение графика длины текста\n",
    "    plt.figure(figsize=(12, 6))\n",
    "    sns.histplot(data['text_length'], bins=50, kde=True, color='blue')\n",
    "    plt.title(\"Распределение длины текста\")\n",
    "    plt.xlabel(\"Количество символов\")\n",
    "    plt.ylabel(\"Частота\")\n",
    "    plt.show()\n",
    "    \n",
    "    # Вычисление количества слов\n",
    "    data['word_count'] = data[text_column].str.strip().str.split().apply(len)  \n",
    "    print(f\"\\nКоличество слов в '{text_column}':\")\n",
    "    print(f\"Максимум: {data['word_count'].max()}\")\n",
    "    print(f\"Минимум: {data['word_count'].min()}\")\n",
    "    print(f\"Среднее: {data['word_count'].mean():.2f}\")\n",
    "    print(f\"Медиана: {data['word_count'].median()}\")\n",
    "    \n",
    "    # Построение графика распределения количества слов\n",
    "    plt.figure(figsize=(12, 6))\n",
    "    sns.histplot(data['word_count'], bins=50, kde=True, color='green')\n",
    "    plt.title(\"Распределение количества слов в тексте\")\n",
    "    plt.xlabel(\"Количество слов\")\n",
    "    plt.ylabel(\"Частота\")\n",
    "    plt.show()\n",
    "    \n",
    "    # Определение языка текста выборочно\n",
    "    def detect_language_safe(text):\n",
    "        try:\n",
    "            if isinstance(text, str) and len(text.strip()) > 5:\n",
    "                return detect(text)\n",
    "            else:\n",
    "                return 'unknown'\n",
    "        except LangDetectException:\n",
    "            return 'unknown'\n",
    "\n",
    "    print(\"\\nОпределение языков текста (выборочно):\")\n",
    "    sample_data = data.sample(frac=sample_fraction, random_state=42)\n",
    "    sample_data['detected_languages'] = sample_data[text_column].apply(detect_language_safe)\n",
    "    \n",
    "    language_counts = sample_data['detected_languages'].value_counts()\n",
    "    print(\"Распределение языков в выборке:\")\n",
    "    display(language_counts)\n",
    "    \n",
    "    # Построение графика распределения языков\n",
    "    plt.figure(figsize=(12, 6))\n",
    "    language_counts.plot(kind='bar', color='purple')\n",
    "    plt.title(\"Распределение языков в выборке текста\")\n",
    "    plt.xlabel(\"Язык\")\n",
    "    plt.ylabel(\"Количество\")\n",
    "    plt.xticks(rotation=90)\n",
    "    plt.show()\n",
    "    \n",
    "    return sample_data\n"
   ]
  },
  {
   "cell_type": "markdown",
   "metadata": {},
   "source": [
    "### Загрузка данных"
   ]
  },
  {
   "cell_type": "code",
   "execution_count": 53,
   "metadata": {
    "ExecuteTime": {
     "end_time": "2024-11-19T18:45:12.722373Z",
     "start_time": "2024-11-19T18:45:12.070674Z"
    }
   },
   "outputs": [
    {
     "name": "stdout",
     "output_type": "stream",
     "text": [
      "Загрузка данных из локального файла: datasets/toxic_comments.csv\n"
     ]
    }
   ],
   "source": [
    "# Путь к локальному файлу и URL удаленного файла\n",
    "local_file_path = 'datasets/toxic_comments.csv'\n",
    "remote_url = 'https://code.s3.yandex.net/datasets/toxic_comments.csv'\n",
    "\n",
    "# Загрузка данных\n",
    "df = load_data(local_file_path, remote_url, index_col=[0])"
   ]
  },
  {
   "cell_type": "code",
   "execution_count": 56,
   "metadata": {
    "ExecuteTime": {
     "end_time": "2024-11-19T18:47:00.429931Z",
     "start_time": "2024-11-19T18:45:47.312056Z"
    },
    "scrolled": false
   },
   "outputs": [
    {
     "name": "stdout",
     "output_type": "stream",
     "text": [
      "Первые 5 строк данных:\n"
     ]
    },
    {
     "data": {
      "text/html": [
       "<div>\n",
       "<style scoped>\n",
       "    .dataframe tbody tr th:only-of-type {\n",
       "        vertical-align: middle;\n",
       "    }\n",
       "\n",
       "    .dataframe tbody tr th {\n",
       "        vertical-align: top;\n",
       "    }\n",
       "\n",
       "    .dataframe thead th {\n",
       "        text-align: right;\n",
       "    }\n",
       "</style>\n",
       "<table border=\"1\" class=\"dataframe\">\n",
       "  <thead>\n",
       "    <tr style=\"text-align: right;\">\n",
       "      <th></th>\n",
       "      <th>text</th>\n",
       "      <th>toxic</th>\n",
       "    </tr>\n",
       "  </thead>\n",
       "  <tbody>\n",
       "    <tr>\n",
       "      <th>0</th>\n",
       "      <td>Explanation\\nWhy the edits made under my username Hardcore Metallica Fan were reverted? They weren't vandalisms, just closure on some GAs after I voted at New York Dolls FAC. And please don't remove the template from the talk page since I'm retired now.89.205.38.27</td>\n",
       "      <td>0</td>\n",
       "    </tr>\n",
       "    <tr>\n",
       "      <th>1</th>\n",
       "      <td>D'aww! He matches this background colour I'm seemingly stuck with. Thanks.  (talk) 21:51, January 11, 2016 (UTC)</td>\n",
       "      <td>0</td>\n",
       "    </tr>\n",
       "    <tr>\n",
       "      <th>2</th>\n",
       "      <td>Hey man, I'm really not trying to edit war. It's just that this guy is constantly removing relevant information and talking to me through edits instead of my talk page. He seems to care more about the formatting than the actual info.</td>\n",
       "      <td>0</td>\n",
       "    </tr>\n",
       "    <tr>\n",
       "      <th>3</th>\n",
       "      <td>\"\\nMore\\nI can't make any real suggestions on improvement - I wondered if the section statistics should be later on, or a subsection of \"\"types of accidents\"\"  -I think the references may need tidying so that they are all in the exact same format ie date format etc. I can do that later on, if no-one else does first - if you have any preferences for formatting style on references or want to do it yourself please let me know.\\n\\nThere appears to be a backlog on articles for review so I guess there may be a delay until a reviewer turns up. It's listed in the relevant form eg Wikipedia:Good_article_nominations#Transport  \"</td>\n",
       "      <td>0</td>\n",
       "    </tr>\n",
       "    <tr>\n",
       "      <th>4</th>\n",
       "      <td>You, sir, are my hero. Any chance you remember what page that's on?</td>\n",
       "      <td>0</td>\n",
       "    </tr>\n",
       "  </tbody>\n",
       "</table>\n",
       "</div>"
      ],
      "text/plain": [
       "                                                                                                                                                                                                                                                                                                                                                                                                                                                                                                                                                                                                                                                 text  \\\n",
       "0                                                                                                                                                                                                                                                                                                                                                                           Explanation\\nWhy the edits made under my username Hardcore Metallica Fan were reverted? They weren't vandalisms, just closure on some GAs after I voted at New York Dolls FAC. And please don't remove the template from the talk page since I'm retired now.89.205.38.27   \n",
       "1                                                                                                                                                                                                                                                                                                                                                                                                                                                                                                                                    D'aww! He matches this background colour I'm seemingly stuck with. Thanks.  (talk) 21:51, January 11, 2016 (UTC)   \n",
       "2                                                                                                                                                                                                                                                                                                                                                                                                           Hey man, I'm really not trying to edit war. It's just that this guy is constantly removing relevant information and talking to me through edits instead of my talk page. He seems to care more about the formatting than the actual info.   \n",
       "3  \"\\nMore\\nI can't make any real suggestions on improvement - I wondered if the section statistics should be later on, or a subsection of \"\"types of accidents\"\"  -I think the references may need tidying so that they are all in the exact same format ie date format etc. I can do that later on, if no-one else does first - if you have any preferences for formatting style on references or want to do it yourself please let me know.\\n\\nThere appears to be a backlog on articles for review so I guess there may be a delay until a reviewer turns up. It's listed in the relevant form eg Wikipedia:Good_article_nominations#Transport  \"   \n",
       "4                                                                                                                                                                                                                                                                                                                                                                                                                                                                                                                                                                                 You, sir, are my hero. Any chance you remember what page that's on?   \n",
       "\n",
       "   toxic  \n",
       "0      0  \n",
       "1      0  \n",
       "2      0  \n",
       "3      0  \n",
       "4      0  "
      ]
     },
     "metadata": {},
     "output_type": "display_data"
    },
    {
     "name": "stdout",
     "output_type": "stream",
     "text": [
      "\n",
      "Общая информация о данных:\n",
      "<class 'pandas.core.frame.DataFrame'>\n",
      "Index: 159292 entries, 0 to 159450\n",
      "Data columns (total 2 columns):\n",
      " #   Column  Non-Null Count   Dtype \n",
      "---  ------  --------------   ----- \n",
      " 0   text    159292 non-null  object\n",
      " 1   toxic   159292 non-null  int64 \n",
      "dtypes: int64(1), object(1)\n",
      "memory usage: 3.6+ MB\n"
     ]
    },
    {
     "data": {
      "text/plain": [
       "None"
      ]
     },
     "metadata": {},
     "output_type": "display_data"
    },
    {
     "name": "stdout",
     "output_type": "stream",
     "text": [
      "\n",
      "Описание числовых данных:\n"
     ]
    },
    {
     "data": {
      "text/html": [
       "<div>\n",
       "<style scoped>\n",
       "    .dataframe tbody tr th:only-of-type {\n",
       "        vertical-align: middle;\n",
       "    }\n",
       "\n",
       "    .dataframe tbody tr th {\n",
       "        vertical-align: top;\n",
       "    }\n",
       "\n",
       "    .dataframe thead th {\n",
       "        text-align: right;\n",
       "    }\n",
       "</style>\n",
       "<table border=\"1\" class=\"dataframe\">\n",
       "  <thead>\n",
       "    <tr style=\"text-align: right;\">\n",
       "      <th></th>\n",
       "      <th>toxic</th>\n",
       "    </tr>\n",
       "  </thead>\n",
       "  <tbody>\n",
       "    <tr>\n",
       "      <th>count</th>\n",
       "      <td>159292.000000</td>\n",
       "    </tr>\n",
       "    <tr>\n",
       "      <th>mean</th>\n",
       "      <td>0.101612</td>\n",
       "    </tr>\n",
       "    <tr>\n",
       "      <th>std</th>\n",
       "      <td>0.302139</td>\n",
       "    </tr>\n",
       "    <tr>\n",
       "      <th>min</th>\n",
       "      <td>0.000000</td>\n",
       "    </tr>\n",
       "    <tr>\n",
       "      <th>25%</th>\n",
       "      <td>0.000000</td>\n",
       "    </tr>\n",
       "    <tr>\n",
       "      <th>50%</th>\n",
       "      <td>0.000000</td>\n",
       "    </tr>\n",
       "    <tr>\n",
       "      <th>75%</th>\n",
       "      <td>0.000000</td>\n",
       "    </tr>\n",
       "    <tr>\n",
       "      <th>max</th>\n",
       "      <td>1.000000</td>\n",
       "    </tr>\n",
       "  </tbody>\n",
       "</table>\n",
       "</div>"
      ],
      "text/plain": [
       "               toxic\n",
       "count  159292.000000\n",
       "mean        0.101612\n",
       "std         0.302139\n",
       "min         0.000000\n",
       "25%         0.000000\n",
       "50%         0.000000\n",
       "75%         0.000000\n",
       "max         1.000000"
      ]
     },
     "metadata": {},
     "output_type": "display_data"
    },
    {
     "name": "stdout",
     "output_type": "stream",
     "text": [
      "\n",
      "Количество пропущенных значений:\n"
     ]
    },
    {
     "data": {
      "text/plain": [
       "text     0\n",
       "toxic    0\n",
       "dtype: int64"
      ]
     },
     "metadata": {},
     "output_type": "display_data"
    },
    {
     "name": "stdout",
     "output_type": "stream",
     "text": [
      "\n",
      "Количество уникальных значений в каждом столбце:\n"
     ]
    },
    {
     "data": {
      "text/plain": [
       "text     159292\n",
       "toxic         2\n",
       "dtype: int64"
      ]
     },
     "metadata": {},
     "output_type": "display_data"
    },
    {
     "name": "stdout",
     "output_type": "stream",
     "text": [
      "\n",
      "Количество дубликатов: 0\n",
      "\n",
      "Распределение целевой переменной:\n"
     ]
    },
    {
     "data": {
      "image/png": "[encoded data removed]",
      "text/plain": [
       "<Figure size 1200x600 with 1 Axes>"
      ]
     },
     "metadata": {},
     "output_type": "display_data"
    },
    {
     "name": "stdout",
     "output_type": "stream",
     "text": [
      "\n",
      "Максимальное количество символов в 'text' (без лишних пробелов): 5000\n",
      "Минимальное количество символов в 'text' (без лишних пробелов): 3\n"
     ]
    },
    {
     "data": {
      "image/png": "[encoded data removed]",
      "text/plain": [
       "<Figure size 1200x600 with 1 Axes>"
      ]
     },
     "metadata": {},
     "output_type": "display_data"
    },
    {
     "name": "stdout",
     "output_type": "stream",
     "text": [
      "\n",
      "Количество слов в 'text':\n",
      "Максимум: 1411\n",
      "Минимум: 1\n",
      "Среднее: 67.21\n",
      "Медиана: 36.0\n"
     ]
    },
    {
     "data": {
      "image/png": "[encoded data removed]",
      "text/plain": [
       "<Figure size 1200x600 with 1 Axes>"
      ]
     },
     "metadata": {},
     "output_type": "display_data"
    },
    {
     "name": "stdout",
     "output_type": "stream",
     "text": [
      "\n",
      "Определение языков текста (выборочно):\n",
      "Распределение языков в выборке:\n"
     ]
    },
    {
     "data": {
      "text/plain": [
       "detected_languages\n",
       "en    15509\n",
       "de       55\n",
       "af       41\n",
       "fr       40\n",
       "id       33\n",
       "et       27\n",
       "so       23\n",
       "cy       19\n",
       "nl       18\n",
       "sv       18\n",
       "da       16\n",
       "it       15\n",
       "tl       14\n",
       "tr       12\n",
       "es       11\n",
       "no       11\n",
       "hu       10\n",
       "sw        9\n",
       "ro        8\n",
       "fi        7\n",
       "pt        7\n",
       "vi        6\n",
       "hr        4\n",
       "ca        4\n",
       "sq        4\n",
       "sk        3\n",
       "pl        2\n",
       "cs        1\n",
       "lt        1\n",
       "sl        1\n",
       "Name: count, dtype: int64"
      ]
     },
     "metadata": {},
     "output_type": "display_data"
    },
    {
     "data": {
      "image/png": "[encoded data removed]",
      "text/plain": [
       "<Figure size 1200x600 with 1 Axes>"
      ]
     },
     "metadata": {},
     "output_type": "display_data"
    }
   ],
   "source": [
    "sample_data = data_overview_with_language_detection(\n",
    "    df=df, \n",
    "    target_column='toxic', \n",
    "    text_column='text', \n",
    "    sample_fraction=0.1  # Выбор 10% строк\n",
    ")"
   ]
  },
  {
   "cell_type": "markdown",
   "metadata": {},
   "source": [
    "**ВЫВОД:** \n",
    "1. **Общая информация о данных:**\n",
    "   - Набор данных содержит 159292 строки и 2 столбца: `text` (текст комментариев) и `toxic` (целевой признак — токсичность комментария).\n",
    "   - Все значения в данных ненулевые, пропуски отсутствуют.\n",
    "   - Колонка `text` имеет тип данных `object`, а `toxic` — `int64`.\n",
    "\n",
    "2. **Распределение целевой переменной (`toxic`):**\n",
    "   - 10.16% комментариев являются токсичными.\n",
    "   - Данные сильно несбалансированы, подавляющее большинство (89.84%) комментариев — нетоксичные.\n",
    "\n",
    "3. **Длина текста:**\n",
    "   - Максимальная длина текста: 5000 символов.\n",
    "   - Минимальная длина текста: 3 символа.\n",
    "   - Распределение длины текста имеет асимметрию вправо (длинные комментарии редки), большинство комментариев имеют менее 1000 символов.\n",
    "\n",
    "4. **Количество слов:**\n",
    "   - Максимальное количество слов в тексте: 1411.\n",
    "   - Минимальное количество слов: 1.\n",
    "   - Среднее количество слов: 67.21.\n",
    "   - Медианное количество слов: 36.\n",
    "   - Большинство текстов содержат менее 200 слов.\n",
    "\n",
    "5. **Распределение языков текста (на основе выборки 10% строк):**\n",
    "   - Большинство текстов написаны на английском (`en`) — 15518 строк (99% выборки).\n",
    "   - Небольшое количество текстов встречается на других языках, таких как немецкий (`de`), африкаанс (`af`), французский (`fr`), индонезийский (`id`), сомалийский (`so`), и другие.\n",
    "   - Примерно 25 дополнительных языков встречаются в выборке, но доля их минимальна (менее 1%).\n",
    "\n",
    "6. **Дубликаты:**\n",
    "   - Дубликаты в данных отсутствуют.\n",
    "\n",
    "**Рекомендации:**\n",
    "- **Обработка несбалансированности классов:**\n",
    "   - Применить методы балансировки, такие как oversampling (например, с помощью SMOTE) или взвешивание классов при обучении моделей.\n",
    "   - Особое внимание уделить моделированию токсичных комментариев, поскольку их доля в данных мала.\n",
    "\n",
    "- **Обработка текстов на других языках:**\n",
    "   - Учитывая, что тексты на английском языке доминируют (99%), имеет смысл ограничить анализ только английскими комментариями для упрощения задачи.\n",
    "\n",
    "- **Очистка длинных текстов:**\n",
    "   - Рассмотреть усечение текстов длиной более 1000 символов, поскольку такие комментарии могут быть редкими и нести избыточную информацию.\n",
    "\n",
    "- **Анализ распределения слов и длины текста:**\n",
    "   - Учитывать, что большинство текстов содержат менее 200 слов, при выборе стратегии предварительной обработки и представления данных."
   ]
  },
  {
   "cell_type": "markdown",
   "metadata": {},
   "source": [
    "## Обучение"
   ]
  },
  {
   "cell_type": "markdown",
   "metadata": {},
   "source": [
    "## Выводы"
   ]
  },
  {
   "cell_type": "code",
   "execution_count": null,
   "metadata": {},
   "outputs": [],
   "source": []
  },
  {
   "cell_type": "markdown",
   "metadata": {},
   "source": [
    "## Чек-лист проверки"
   ]
  },
  {
   "cell_type": "markdown",
   "metadata": {},
   "source": [
    "- [x]  Jupyter Notebook открыт\n",
    "- [ ]  Весь код выполняется без ошибок\n",
    "- [ ]  Ячейки с кодом расположены в порядке исполнения\n",
    "- [ ]  Данные загружены и подготовлены\n",
    "- [ ]  Модели обучены\n",
    "- [ ]  Значение метрики *F1* не меньше 0.75\n",
    "- [ ]  Выводы написаны"
   ]
  }
 ],
 "metadata": {
  "kernelspec": {
   "display_name": "Python 3 (ipykernel)",
   "language": "python",
   "name": "python3"
  },
  "language_info": {
   "codemirror_mode": {
    "name": "ipython",
    "version": 3
   },
   "file_extension": ".py",
   "mimetype": "text/x-python",
   "name": "python",
   "nbconvert_exporter": "python",
   "pygments_lexer": "ipython3",
   "version": "3.9.19"
  },
  "nbTranslate": {
   "displayLangs": [
    "*"
   ],
   "hotkey": "alt-t",
   "langInMainMenu": true,
   "sourceLang": "en",
   "targetLang": "fr",
   "useGoogleTranslate": true
  },
  "toc": {
   "base_numbering": 1,
   "nav_menu": {},
   "number_sections": true,
   "sideBar": true,
   "skip_h1_title": true,
   "title_cell": "Содержание",
   "title_sidebar": "Contents",
   "toc_cell": true,
   "toc_position": {
    "height": "calc(100% - 180px)",
    "left": "10px",
    "top": "150px",
    "width": "302.391px"
   },
   "toc_section_display": true,
   "toc_window_display": false
  },
  "varInspector": {
   "cols": {
    "lenName": 16,
    "lenType": 16,
    "lenVar": 40
   },
   "kernels_config": {
    "python": {
     "delete_cmd_postfix": "",
     "delete_cmd_prefix": "del ",
     "library": "var_list.py",
     "varRefreshCmd": "print(var_dic_list())"
    },
    "r": {
     "delete_cmd_postfix": ") ",
     "delete_cmd_prefix": "rm(",
     "library": "var_list.r",
     "varRefreshCmd": "cat(var_dic_list()) "
    }
   },
   "types_to_exclude": [
    "module",
    "function",
    "builtin_function_or_method",
    "instance",
    "_Feature"
   ],
   "window_display": false
  }
 },
 "nbformat": 4,
 "nbformat_minor": 2
}
